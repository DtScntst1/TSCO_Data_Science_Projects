{
 "cells": [
  {
   "cell_type": "markdown",
   "metadata": {},
   "source": [
    "**SQL**\n",
    "\n",
    "**Chinook Veritabanı - Invoice Tablosu SQL Sorguları**\n",
    "\n",
    "### Turkstudentco’da veri bilimci olarak ilk iş gününde, Chinook veritabanından Invoice tablosu verildi. Bu tabloyu inceledikten sonra kafanızda birkaç soru oluştu ve bu soruları cevaplamak için SQL sorguları yazmanız istendi. \n",
    "\n",
    "### Bu ödevin amacı, veritabanı sorgulama becerilerini geliştirmek ve farklı SQL işlemlerinin uygulanmasını sağlamaktır.\n",
    "\n"
   ]
  },
  {
   "cell_type": "code",
   "execution_count": null,
   "metadata": {},
   "outputs": [],
   "source": [
    "# Invoice tablosunda, tüm değerleri NULL olan kayıtların sayısı\n",
    "\n",
    "SELECT COUNT(*)\n",
    "FROM Invoice\n",
    "WHERE invoice_id IS NULL\n",
    "  AND customer_id IS NULL\n",
    "  AND invoice_date IS NULL\n",
    "  AND billing_address IS NULL\n",
    "  AND billing_city IS NULL\n",
    "  AND billing_state IS NULL\n",
    "  AND billing_country IS NULL\n",
    "  AND billingpostal_code IS NULL\n",
    "  AND total IS NULL;"
   ]
  },
  {
   "cell_type": "markdown",
   "metadata": {},
   "source": [
    "**Bu sorgu, Invoice tablosunda tüm sütunları NULL olan kayıtları saymaktadır.**"
   ]
  },
  {
   "cell_type": "code",
   "execution_count": null,
   "metadata": {},
   "outputs": [],
   "source": [
    "# Total değerlerini iki katına çıkarma ve karşılaştırma\n",
    "\n",
    "SELECT invoice_id, total AS eski_total, total * 2 AS yeni_total\n",
    "FROM Invoice\n",
    "ORDER BY yeni_total DESC;"
   ]
  },
  {
   "cell_type": "markdown",
   "metadata": {},
   "source": [
    "****Bu sorgu, her faturadaki toplam ücreti iki katına çıkarır ve yeni toplam değerine göre büyükten küçüğe sıralar.****"
   ]
  },
  {
   "cell_type": "code",
   "execution_count": null,
   "metadata": {},
   "outputs": [],
   "source": [
    "# Adres kolonundan yeni bir \"Açık Adres\" oluşturma ve 2013 yılı Ağustos ayına göre filtreleme\n",
    "\n",
    "SELECT\n",
    "    invoice_id,\n",
    "    LEFT(billing_address, 3) || '...' || RIGHT(billing_address, 4) AS \"Açık Adres\"\n",
    "FROM Invoice\n",
    "WHERE EXTRACT(YEAR FROM invoice_date) = 2013\n",
    "  AND EXTRACT(MONTH FROM invoice_date) = 8;"
   ]
  },
  {
   "cell_type": "markdown",
   "metadata": {},
   "source": [
    "**Bu sorgu, fatura adresinin ilk 3 karakteri ile son 4 karakterini birleştirerek \"Açık Adres\" oluşturur. Ayrıca, 2013 yılının Ağustos ayına ait faturaları filtreler.**"
   ]
  },
  {
   "cell_type": "code",
   "execution_count": null,
   "metadata": {},
   "outputs": [],
   "source": []
  }
 ],
 "metadata": {
  "kernelspec": {
   "display_name": "Python 3",
   "language": "python",
   "name": "python3"
  },
  "language_info": {
   "codemirror_mode": {
    "name": "ipython",
    "version": 3
   },
   "file_extension": ".py",
   "mimetype": "text/x-python",
   "name": "python",
   "nbconvert_exporter": "python",
   "pygments_lexer": "ipython3",
   "version": "3.11.5"
  }
 },
 "nbformat": 4,
 "nbformat_minor": 2
}
