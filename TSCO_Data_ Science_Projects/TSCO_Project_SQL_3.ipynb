{
 "cells": [
  {
   "cell_type": "markdown",
   "metadata": {},
   "source": [
    "**SQL**\n",
    "\n",
    "**SQL BOOTCAMP ÜÇÜNCÜ HAFTA ÖDEV SORULARI**\n",
    "\n",
    "### Turkstudentco’da veri bilimci olarak ilk iş gününde, Chinook veritabanından Invoice tablosu verildi. Bu tabloyu inceledikten sonra kafanızda birkaç soru oluştu ve bu soruları cevaplamak için SQL sorguları yazmanız istendi. \n",
    "\n",
    "### Bu ödevin amacı, veritabanı sorgulama becerilerini geliştirmek ve farklı SQL işlemlerinin uygulanmasını sağlamaktır.\n",
    "\n"
   ]
  },
  {
   "cell_type": "code",
   "execution_count": null,
   "metadata": {},
   "outputs": [],
   "source": [
    "# USA ülkesine ait, 2009 yılı içerisindeki tüm faturaların toplamı\n",
    "\n",
    "SELECT SUM(total) AS total_invoice_amount\n",
    "FROM invoice\n",
    "WHERE billing_country = 'USA'\n",
    "AND strftime('%Y', invoice_date) = '2009';"
   ]
  },
  {
   "cell_type": "markdown",
   "metadata": {},
   "source": [
    "**invoice tablosundan USA ülkesine ait 2009 yılındaki tüm faturaların toplamı hesaplanır. strftime('%Y', invoice_date) fonksiyonu kullanılarak yalnızca yıl bilgisi alınır.**"
   ]
  },
  {
   "cell_type": "code",
   "execution_count": null,
   "metadata": {},
   "outputs": [],
   "source": [
    "# Track, PlaylistTrack ve Playlist tablolarını JOIN ile birleştirme\n",
    "\n",
    "SELECT t.track_id, t.name AS track_name, pt.playlist_id, p.name AS playlist_name\n",
    "FROM track t\n",
    "JOIN playlisttrack pt ON t.track_id = pt.track_id\n",
    "JOIN playlist p ON pt.playlist_id = p.playlist_id;"
   ]
  },
  {
   "cell_type": "markdown",
   "metadata": {},
   "source": [
    "****track, playlisttrack ve playlist tablolarını JOIN ile birleştirerek her parçanın hangi çalma listesine ait olduğunu listeleyen sorgu.****"
   ]
  },
  {
   "cell_type": "code",
   "execution_count": null,
   "metadata": {},
   "outputs": [],
   "source": [
    "# \"Let There Be Rock\" albümüne ait parçalar ve sanatçı bilgisi\n",
    "\n",
    "SELECT t.track_id, t.name AS track_name, t.milliseconds, a.title AS album_title, ar.name AS artist_name\n",
    "FROM track t\n",
    "JOIN album a ON t.album_id = a.album_id\n",
    "JOIN artist ar ON a.artist_id = ar.artist_id\n",
    "WHERE a.title = 'Let There Be Rock'\n",
    "ORDER BY t.milliseconds DESC;"
   ]
  },
  {
   "cell_type": "markdown",
   "metadata": {},
   "source": [
    "**track, album ve artist tabloları JOIN kullanılarak birleştirilir. Albüm başlığı \"Let There Be Rock\" olarak filtrelenerek ilgili parçalar listelenir. Sonuçları parça süresine göre büyükten küçüğe sıralanır.**"
   ]
  },
  {
   "cell_type": "code",
   "execution_count": null,
   "metadata": {},
   "outputs": [],
   "source": []
  }
 ],
 "metadata": {
  "kernelspec": {
   "display_name": "Python 3",
   "language": "python",
   "name": "python3"
  },
  "language_info": {
   "codemirror_mode": {
    "name": "ipython",
    "version": 3
   },
   "file_extension": ".py",
   "mimetype": "text/x-python",
   "name": "python",
   "nbconvert_exporter": "python",
   "pygments_lexer": "ipython3",
   "version": "3.11.5"
  }
 },
 "nbformat": 4,
 "nbformat_minor": 2
}
