-- Members table: Stores user information
CREATE TABLE Members (
    member_id BIGINT PRIMARY KEY,
    username VARCHAR(255) NOT NULL,
    email VARCHAR(255) NOT NULL,
    password VARCHAR(255) NOT NULL,
    registration_date DATE,
    first_name VARCHAR(255),
    last_name VARCHAR(255)
);

-- Categories table: Stores course categories
CREATE TABLE Categories (
    category_id SMALLINT PRIMARY KEY,
    name VARCHAR(255) NOT NULL
);

-- Courses table: Stores course details with category and instructor relationships
CREATE TABLE Courses (
    course_id BIGINT PRIMARY KEY,
    category_id SMALLINT,
    start_date DATE,
    instructor_id BIGINT,
    is_active BOOLEAN DEFAULT TRUE,
    FOREIGN KEY (category_id) REFERENCES Categories(category_id),
    FOREIGN KEY (instructor_id) REFERENCES Members(member_id)
);

-- Enrollments table: Tracks member-course enrollment
CREATE TABLE Enrollments (
    enrollment_id BIGINT PRIMARY KEY,
    member_id BIGINT,
    course_id BIGINT,
    enrollment_date DATE,
    FOREIGN KEY (member_id) REFERENCES Members(member_id),
    FOREIGN KEY (course_id) REFERENCES Courses(course_id)
);

-- Certificates table: Tracks certificates with course relationship
CREATE TABLE Certificates (
    certificate_id BIGINT PRIMARY KEY,
    course_id BIGINT,
    issue_date DATE,
    FOREIGN KEY (course_id) REFERENCES Courses(course_id)
);

-- CertificateAssignments table: Links certificates to members
CREATE TABLE CertificateAssignments (
    assignment_id INT PRIMARY KEY,
    member_id BIGINT,
    certificate_id BIGINT,
    issue_date DATE,
    FOREIGN KEY (member_id) REFERENCES Members(member_id),
    FOREIGN KEY (certificate_id) REFERENCES Certificates(certificate_id)
);

-- BlogPosts table: Stores blog posts with corrected field names
CREATE TABLE BlogPosts (
    post_id BIGINT PRIMARY KEY,
    title VARCHAR(255),
    content TEXT,
    publish_date TIMESTAMP,
    author_id BIGINT,
    FOREIGN KEY (author_id) REFERENCES Members(member_id)
);
