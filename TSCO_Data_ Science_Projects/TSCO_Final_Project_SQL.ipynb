{
 "cells": [
  {
   "cell_type": "markdown",
   "metadata": {},
   "source": [
    "**SQL**\n",
    "\n",
    "**SQL Final Projesi**\n",
    "\n",
    "### Bu projede, PostgreSQL veritabanı yönetim sistemi kullanılarak bir \"Çevrimiçi Eğitim Platformu\" için veri tabanı kurulacaktır.\n",
    "\n",
    "### Bu platformda üyeler kayıt olabilecek, eğitimlere katılabilecek, bu eğitimlerden sertifika kazanabilecek ve kullanıcılar blog tarafında paylaşım yaparak kendilerine ait profil sayfalarında seviye atlayabileceklerdir. Proje, veritabanı tasarımı prensiplerini ve PostgreSQL kullanımını pratik bir senaryo üzerinden deneyimlemeyi amaçlamaktadır.\n",
    " "
   ]
  },
  {
   "cell_type": "code",
   "execution_count": null,
   "metadata": {},
   "outputs": [],
   "source": [
    "# -- Members Table\n",
    "CREATE TABLE Members (\n",
    "    member_id BIGINT PRIMARY KEY,\n",
    "    username VARCHAR(50) UNIQUE NOT NULL,\n",
    "    email VARCHAR(100) UNIQUE NOT NULL,\n",
    "    password VARCHAR(255) NOT NULL,\n",
    "    registration_date TIMESTAMP DEFAULT CURRENT_TIMESTAMP,\n",
    "    first_name VARCHAR(50) NOT NULL,\n",
    "    last_name VARCHAR(50) NOT NULL\n",
    ");\n",
    "\n",
    "# -- Courses Table\n",
    "CREATE TABLE Courses (\n",
    "    course_id BIGINT PRIMARY KEY,\n",
    "    course_name VARCHAR(200) NOT NULL,\n",
    "    description TEXT,\n",
    "    start_date DATE,\n",
    "    end_date DATE,\n",
    "    instructor VARCHAR(100)\n",
    ");\n",
    "\n",
    "# -- Categories Table\n",
    "CREATE TABLE Categories (\n",
    "    category_id SMALLINT PRIMARY KEY,\n",
    "    category_name VARCHAR(100) UNIQUE NOT NULL\n",
    ");\n",
    "\n",
    "# -- Enrollments Table\n",
    "CREATE TABLE Enrollments (\n",
    "    enrollment_id BIGINT PRIMARY KEY,\n",
    "    member_id BIGINT NOT NULL,\n",
    "    course_id BIGINT NOT NULL,\n",
    "    enrollment_date TIMESTAMP DEFAULT CURRENT_TIMESTAMP,\n",
    "    FOREIGN KEY (member_id) REFERENCES Members(member_id),\n",
    "    FOREIGN KEY (course_id) REFERENCES Courses(course_id)\n",
    ");\n",
    "\n",
    "# -- Certificates Table\n",
    "CREATE TABLE Certificates (\n",
    "    certificate_id BIGINT PRIMARY KEY,\n",
    "    certificate_code VARCHAR(100) UNIQUE NOT NULL,\n",
    "    issue_date DATE NOT NULL\n",
    ");\n",
    "\n",
    "# -- CertificateAssignments Table\n",
    "CREATE TABLE CertificateAssignments (\n",
    "    assignment_id BIGINT PRIMARY KEY,\n",
    "    member_id BIGINT NOT NULL,\n",
    "    certificate_id BIGINT NOT NULL,\n",
    "    issue_date DATE NOT NULL,\n",
    "    FOREIGN KEY (member_id) REFERENCES Members(member_id),\n",
    "    FOREIGN KEY (certificate_id) REFERENCES Certificates(certificate_id)\n",
    ");\n",
    "\n",
    "# -- BlogPosts Table\n",
    "CREATE TABLE BlogPosts (\n",
    "    post_id BIGINT PRIMARY KEY,\n",
    "    title VARCHAR(255) NOT NULL,\n",
    "    content TEXT NOT NULL,\n",
    "    publish_date TIMESTAMP DEFAULT CURRENT_TIMESTAMP,\n",
    "    author_id BIGINT NOT NULL,\n",
    "    FOREIGN KEY (author_id) REFERENCES Members(member_id)\n",
    ");\n"
   ]
  },
  {
   "cell_type": "code",
   "execution_count": null,
   "metadata": {},
   "outputs": [],
   "source": []
  }
 ],
 "metadata": {
  "kernelspec": {
   "display_name": "Python 3",
   "language": "python",
   "name": "python3"
  },
  "language_info": {
   "codemirror_mode": {
    "name": "ipython",
    "version": 3
   },
   "file_extension": ".py",
   "mimetype": "text/x-python",
   "name": "python",
   "nbconvert_exporter": "python",
   "pygments_lexer": "ipython3",
   "version": "3.11.5"
  }
 },
 "nbformat": 4,
 "nbformat_minor": 2
}
