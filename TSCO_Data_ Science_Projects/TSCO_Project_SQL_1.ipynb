{
 "cells": [
  {
   "cell_type": "markdown",
   "metadata": {},
   "source": [
    "**SQL**\n",
    "\n",
    "### Bu projede, SQL sorguları kullanılarak veritabanı tablolarında veri seçme, filtreleme, sıralama ve birleştirme işlemleri yapma becerileri geliştirilmektedir.\n",
    "### Bu kapsamda çalışılan veriler, Employees ve Departments tablolarında tutulmaktadır.\n",
    "\n"
   ]
  },
  {
   "cell_type": "code",
   "execution_count": null,
   "metadata": {},
   "outputs": [],
   "source": [
    "# Belirli Kolonları Seçme\n",
    "\n",
    "SELECT FirstName, LastName, Salary\n",
    "FROM Employees;"
   ]
  },
  {
   "cell_type": "markdown",
   "metadata": {},
   "source": [
    "**Bu sorgu, Employees tablosundaki sadece FirstName, LastName ve Salary kolonlarındaki verileri getirir. Bu şekilde yalnızca bu üç kolonun verilerini görüntülenir.**"
   ]
  },
  {
   "cell_type": "code",
   "execution_count": null,
   "metadata": {},
   "outputs": [],
   "source": [
    "# DISTINCT Komutu ile Tekrarları Önleme\n",
    "\n",
    "SELECT DISTINCT DepartmenID",
     "FROM Departments;"
   ]
  },
  {
   "cell_type": "markdown",
   "metadata": {},
   "source": [
    "****Bu sorgu, Employees tablosundaki Department kolonundaki benzersiz (distinct) değerleri listeler. Aynı departman adı birden fazla kez geçmiş olsa bile her departman yalnızca bir kez listelenir.****"
   ]
  },
  {
   "cell_type": "code",
   "execution_count": null,
   "metadata": {},
   "outputs": [],
   "source": [
    "# Belirli Bir Departmana Ait Çalışanları Listeleme\n",
    "\n",
    "SELECT * \n",
    "FROM Employees\n",
    "WHERE DepartmentID = '1';"
   ]
  },
  {
   "cell_type": "markdown",
   "metadata": {},
   "source": [
    "**Bu sorgu, Employees tablosunda yalnızca Department kolonunda 'IT' olan çalışanların tüm bilgilerini getirir. Yani sadece IT departmanında çalışanları listeler.**"
   ]
  },
  {
   "cell_type": "code",
   "execution_count": null,
   "metadata": {},
   "outputs": [],
   "source": [
    "# Maaşa Göre Sıralama\n",
    "\n",
    "SELECT * \n",
    "FROM Employees\n",
    "ORDER BY Salary DESC;"
   ]
  },
  {
   "cell_type": "markdown",
   "metadata": {},
   "source": [
    "**Bu sorgu, Employees tablosundaki tüm verileri maaşlarına göre büyükten küçüğe (desc) sıralar. Dolayısyla en yüksek maaşlı çalışanlar ilk sıralarda yer alır.**"
   ]
  },
  {
   "cell_type": "code",
   "execution_count": null,
   "metadata": {},
   "outputs": [],
   "source": [
    "# Kolonları Birleştirme (Concatenation)\n",
    "\n",
    "SELECT CONCAT(FirstName, ' ', LastName) AS FullName\n",
    "FROM Employees;\n"
   ]
  },
  {
   "cell_type": "markdown",
   "metadata": {},
   "source": [
    "**Bu sorgu, FirstName ve LastName kolonlarındaki verileri birleştirir ve yeni bir kolon olarak FullName adını verir. Bu kolon, her çalışanın tam adını içerir.**"
   ]
  },
  {
   "cell_type": "code",
   "execution_count": null,
   "metadata": {},
   "outputs": [],
   "source": []
  }
 ],
 "metadata": {
  "kernelspec": {
   "display_name": "Python 3",
   "language": "python",
   "name": "python3"
  },
  "language_info": {
   "codemirror_mode": {
    "name": "ipython",
    "version": 3
   },
   "file_extension": ".py",
   "mimetype": "text/x-python",
   "name": "python",
   "nbconvert_exporter": "python",
   "pygments_lexer": "ipython3",
   "version": "3.11.5"
  }
 },
 "nbformat": 4,
 "nbformat_minor": 2
}
